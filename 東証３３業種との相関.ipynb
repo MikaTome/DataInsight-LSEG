{
 "cells": [
  {
   "cell_type": "markdown",
   "metadata": {},
   "source": [
    "ある特定のRIC（インデックス）を取り上げ、東証３３業種の指数との相関を見ます。<BR>\n",
    "相関係数の計算期間やデータの頻度などを設定して相関の高い業種を探し出します。<BR>\n",
    "さらに、最も正相関の高い業種との相関係数の推移をヒストリカルに見てみます。"
   ]
  },
  {
   "cell_type": "code",
   "execution_count": null,
   "metadata": {},
   "outputs": [],
   "source": [
    "#ライブラリーインポート、APPキー入力\n",
    "\n",
    "import eikon as ek\n",
    "ek.set_app_key('DEFAULT_CODE_BOOK_APP_KEY')\n",
    "\n",
    "import pandas as pd #data analysis and manipulation tool\n",
    "import numpy as np\n",
    "import matplotlib.pyplot as plt\n",
    "\n",
    "import datetime as dt #date and time module\n",
    "from datetime import date \n",
    "from datetime import datetime\n",
    "import dateutil.relativedelta\n",
    "from dateutil.relativedelta import relativedelta, FR\n",
    "\n",
    "import ipywidgets as widgets #Widget\n",
    "from ipywidgets import Box\n",
    "\n",
    "import plotly\n",
    "import plotly.graph_objects as go\n",
    "import plotly.offline as offline\n",
    "from plotly.subplots import make_subplots\n",
    "\n",
    "import warnings\n",
    "warnings.filterwarnings('ignore')\n",
    "\n",
    "\n"
   ]
  },
  {
   "cell_type": "code",
   "execution_count": null,
   "metadata": {},
   "outputs": [],
   "source": [
    "#ウィジェット設定\n",
    "\n",
    "Index = widgets.Text(\n",
    "    value = 'US10YT=RR',\n",
    "    description = 'RIC',\n",
    "    disabled = False,) #比べたいインデックス取得\n",
    "\n",
    "End = widgets.DatePicker(\n",
    "    value = datetime(2021,10,8).date(),\n",
    "    description='End Date',\n",
    "    disabled=False,) #いつまでの期間で相関計算するか？\n",
    "\n",
    "\n",
    "T = widgets.Dropdown(\n",
    "    options = ['0.0833333','0.25','0.5','1','2','3','4','5','7','10'],\n",
    "    value = '1',\n",
    "    description = '期間（年）',\n",
    "    disabled = False,) #相関計算期間の長さ設定\n",
    "\n",
    "Intv = widgets.Dropdown(\n",
    "    options = ['daily','weekly','monthly'],\n",
    "    value = 'daily',\n",
    "    description = 'データ頻度',\n",
    "    style = {'description_width': 'initial'},\n",
    "    disabled = False,) #データの頻度設定（日次、週次、月次）\n",
    "\n",
    "\n",
    "items = [Index, End, T, Intv]\n",
    "box = Box(children = items)\n",
    "box"
   ]
  },
  {
   "cell_type": "code",
   "execution_count": null,
   "metadata": {},
   "outputs": [],
   "source": [
    "#ヒストリカルデータ取得するRICのリスト作成\n",
    "\n",
    "INDEX_T33 = [Index.value,'.TOPX','.IGLSS.T','.IRUBR.T','.ISVCS.T','.IFINS.T','.IMISC.T','.IPAPR.T','.IPHAM.T','.IWHOL.T','.ICHEM.T',\n",
    "             '.ISHIP.T','.IMCHN.T','.IMETL.T','.IBNKS.T','.IAIRL.T','.ICNST.T','.IMING.T','.IRETL.T','.ISECU.T',\n",
    "             '.ICOMS.T','.IFOOD.T','.IFISH.T','.IPRCS.T','.IPETE.T','.ITXTL.T','.IWHSE.T','.ISTEL.T','.IEPNG.T',\n",
    "              '.IELEC.T','.INFRO.T','.IRLTY.T','.IINSU.T','.ITEQP.T','.IRAIL.T']\n",
    "INDEX_T33 #東証３３業種とトピックスに比べたいインデックスを加えたリスト確認"
   ]
  },
  {
   "cell_type": "code",
   "execution_count": null,
   "metadata": {},
   "outputs": [],
   "source": [
    "#ヒストリカルデータ取得範囲の設定\n",
    "\n",
    "s = (End.value + relativedelta(months=int((float(T.value)+0.000001)*-12))) #計算期間の起点\n",
    "e = End.value #計算期間の終点\n",
    "print(s,type(s)) #起点日付とそのデータ属性確認\n",
    "print(e,type(e)) #終点日付とそのデータ属性確認"
   ]
  },
  {
   "cell_type": "code",
   "execution_count": null,
   "metadata": {},
   "outputs": [],
   "source": [
    "#ヒストリカルデータ取得の関数定義\n",
    "\n",
    "def historical_data(ric,startdate, enddate):\n",
    "    \n",
    "        \n",
    "    hdata = ek.get_timeseries(ric,\n",
    "                              start_date = f'{startdate}',\n",
    "                              end_date = f'{enddate}',\n",
    "                              fields = ['TIMESTAMP','CLOSE'],\n",
    "                              interval = Intv.value)\n",
    "    return hdata\n"
   ]
  },
  {
   "cell_type": "code",
   "execution_count": null,
   "metadata": {},
   "outputs": [],
   "source": [
    "#ヒストリカルデータ取得とデータフレーム作成\n",
    "\n",
    "\n",
    "data = pd.DataFrame() #dataというデータフレーム設定\n",
    "\n",
    "for i in INDEX_T33: #dfにインデックスおよび各業種の引け値データを取り込む\n",
    "    df = historical_data(i,s,e)\n",
    "    df.rename(columns = {'CLOSE': i}, inplace = True)    # inplace = True … 元のデータに反映させる\n",
    "    if len(data):\n",
    "        data = pd.concat([data, df], axis=1) #インデックスと各業種のデータを連結させる\n",
    "    else:\n",
    "        data = df\n",
    "\n",
    "data = data.fillna(method=\"ffill\") #データ欠損は前データで代用する \n",
    "data\n"
   ]
  },
  {
   "cell_type": "code",
   "execution_count": null,
   "metadata": {},
   "outputs": [],
   "source": [
    "#相関係数の計算（相関行列）\n",
    "\n",
    "Corr = data.corr() #Corrを相関行列に\n",
    "\n",
    "#Indexとの相関係数に関連する部分だけ抽出\n",
    "\n",
    "Index_corr = Corr.iloc[:,0] #インデックスとの相関部分だけ抽出\n",
    "ABS=Index_corr.abs().sort_values(ascending=False) #絶対値に変換し降順にソート\n",
    "\n",
    "Ichiran=pd.concat([ABS,Index_corr],axis=1) #相関係数：左　とその絶対値：右　を連結し絶対値の降順で表示\n",
    "Ichiran"
   ]
  },
  {
   "cell_type": "code",
   "execution_count": null,
   "metadata": {},
   "outputs": [],
   "source": [
    "#相関係数（絶対値）最大値の業種とその相関係数の出力\n",
    "\n",
    "print(Index.value,s,e)\n",
    "MXgyoushu = ABS[1:].idxmax() #相関係数絶対値最大値の業種をRICで取得\n",
    "MXname, err = ek.get_data(instruments=MXgyoushu,fields='DSPLY_NMLL') #最大値業種名を日本語で\n",
    "print('最大値',MXname,Index_corr.loc[MXgyoushu])\n"
   ]
  },
  {
   "cell_type": "code",
   "execution_count": null,
   "metadata": {},
   "outputs": [],
   "source": [
    "#相関係数（絶対値）最小値の業種とその相関係数の出力\n",
    "\n",
    "print(Index.value,s,e)\n",
    "MIgyoushu = ABS.idxmin() #相関係数絶対値最小値の業種をRICで取得\n",
    "MIname, err = ek.get_data(instruments=MIgyoushu,fields='DSPLY_NMLL') #最小値業種名を日本語で\n",
    "print('最小値',MIname,Index_corr.loc[MIgyoushu])"
   ]
  },
  {
   "cell_type": "code",
   "execution_count": null,
   "metadata": {},
   "outputs": [],
   "source": [
    "#インデックスと相関１位業種との散布図作成\n",
    "\n",
    "CHdataX = (data.loc[:,MXgyoushu]) #X軸データ\n",
    "CHdataY = (data.iloc[:,0]) #Y軸データ\n",
    "\n",
    "trace = go.Scatter(x=CHdataX,y=CHdataY,mode='markers')\n",
    "layout = go.Layout(xaxis=dict(title=MXgyoushu),yaxis=dict(title=Index.value),title=\"インデックスと相関１位業種　散布図\")\n",
    "\n",
    "fig = dict(data = [trace],layout=layout)\n",
    "offline.iplot(fig)"
   ]
  },
  {
   "cell_type": "code",
   "execution_count": null,
   "metadata": {},
   "outputs": [],
   "source": [
    "#時系列で相関係数を見る業種選択\n",
    "\n",
    "PICKUP = widgets.Dropdown(\n",
    "    options = ['相関１位','.TOPX','.IGLSS.T','.IRUBR.T','.ISVCS.T','.IFINS.T','.IMISC.T','.IPAPR.T','.IPHAM.T','.IWHOL.T','.ICHEM.T',\n",
    "             '.ISHIP.T','.IMCHN.T','.IMETL.T','.IBNKS.T','.IAIRL.T','.ICNST.T','.IMING.T','.IRETL.T','.ISECU.T',\n",
    "             '.ICOMS.T','.IFOOD.T','.IFISH.T','.IPRCS.T','.IPETE.T','.ITXTL.T','.IWHSE.T','.ISTEL.T','.IEPNG.T',\n",
    "              '.IELEC.T','.INFRO.T','.IRLTY.T','.IINSU.T','.ITEQP.T','.IRAIL.T'],\n",
    "    value = '相関１位',\n",
    "    description = '時系列業種選択',\n",
    "    disabled = False,) #時系列で相関を見る業種選択\n",
    "\n",
    "items = [PICKUP]\n",
    "box = Box(children = items)\n",
    "box"
   ]
  },
  {
   "cell_type": "code",
   "execution_count": null,
   "metadata": {},
   "outputs": [],
   "source": [
    "#相関係数を時系列で取得\n",
    "\n",
    "if PICKUP.value=='相関１位':\n",
    "    GYOUSHU = MXgyoushu\n",
    "else:\n",
    "    GYOUSHU = PICKUP.value\n",
    "    \n",
    "HISdata = pd.DataFrame() #ヒストリカルマーケットデータ格納データフレーム設定\n",
    "HIScorrD = pd.DataFrame(columns=['Corr']) #ヒストリカル相関係数格納データフレーム設定\n",
    "\n",
    "N = np.arange(121) #ヒストリカル期間設定（月数）\n",
    "for n in N:\n",
    "    et = End.value\n",
    "    et = et + relativedelta(months=-1*n)\n",
    "    st = et + relativedelta(months=int((float(T.value)+0.000001)*-12))\n",
    "        \n",
    "    HISdata = historical_data([Index.value,GYOUSHU],st,et) #各時点のヒストリカルデータ\n",
    "            \n",
    "    HIScorr = HISdata.corr().iloc[0,1] #各時点のヒストリカル相関係数\n",
    "    \n",
    "    HIScorrD.loc[et] = HIScorr #各時点のヒストリカル相関係数を集計\n",
    "    \n",
    "HIScorrD"
   ]
  },
  {
   "cell_type": "code",
   "execution_count": null,
   "metadata": {},
   "outputs": [],
   "source": [
    "#相関係数の推移をチャート化\n",
    "\n",
    "D = HIScorrD.index\n",
    "X = HIScorrD.iloc[:,0]\n",
    "\n",
    "trace = go.Scatter(x=D, y=X, mode='lines')\n",
    "layout = go.Layout(xaxis = dict(title='Date', type='date', dtick='M6'),\n",
    "                  yaxis = dict(title=GYOUSHU+'の相関係数'),\n",
    "                  title = '相関係数の推移')\n",
    "\n",
    "fig = dict(data = [trace], layout = layout)\n",
    "offline.iplot(fig)"
   ]
  },
  {
   "cell_type": "code",
   "execution_count": null,
   "metadata": {},
   "outputs": [],
   "source": [
    "#インデックスと選択した業種の過去10年ヒストリカルチャート作成\n",
    "\n",
    "CHdataI = historical_data(Index.value,e+relativedelta(months=-120),e)\n",
    "CHdataI = CHdataI.rename(columns={'CLOSE':'CHdataI'}) \n",
    "\n",
    "CHdataG = historical_data(GYOUSHU,e+relativedelta(months=-120),e)\n",
    "CHdataG = CHdataG.rename(columns={'CLOSE':'CHdataG'}) \n",
    "\n",
    "TOPIX = historical_data('.TOPX',e+relativedelta(months=-120),e)\n",
    "TOPIX = TOPIX.rename(columns={'CLOSE':'TOPIX'}) \n",
    "\n",
    "CHdata=CHdataI.join([TOPIX,CHdataG]).fillna(method=\"ffill\") #連結\n",
    "\n",
    "trace1 = go.Scatter(x=CHdata.index,y=CHdata.CHdataI,mode='lines',name=Index.value,yaxis='y',line=dict(color=\"blue\"))\n",
    "trace2 = go.Scatter(x=CHdata.index,y=CHdata.CHdataG,mode='lines',name=GYOUSHU,yaxis='y2',line=dict(color=\"red\")) \n",
    "trace3 = go.Scatter(x=CHdata.index,y=CHdata.TOPIX,mode='lines',name='TOPIX',yaxis='y3',line=dict(color=\"gray\")) \n",
    "\n",
    "layout = go.Layout(xaxis = dict(title='Date', type='date', dtick='M6', domain=[0.0,0.9]),\n",
    "                   yaxis = dict(title=Index.value, side='left', color=\"blue\"),\n",
    "                   yaxis2 = dict(title=GYOUSHU, side='right', overlaying='y', color=\"red\"),\n",
    "                   yaxis3 = dict(title='TOPIX', side='right', overlaying='y', position=1.0, color=\"gray\"),\n",
    "                   legend = {\"x\":0.9,\"y\":1.3},\n",
    "                   title = 'マーケットデータ')\n",
    "\n",
    "fig = dict(data = [trace1,trace2,trace3], layout = layout)\n",
    "offline.iplot(fig)\n",
    "\n"
   ]
  },
  {
   "cell_type": "code",
   "execution_count": null,
   "metadata": {},
   "outputs": [],
   "source": []
  },
  {
   "cell_type": "code",
   "execution_count": null,
   "metadata": {},
   "outputs": [],
   "source": []
  }
 ],
 "metadata": {
  "kernelspec": {
   "display_name": "Python 3 (ipykernel)",
   "language": "python",
   "name": "python3"
  },
  "language_info": {
   "codemirror_mode": {
    "name": "ipython",
    "version": 3
   },
   "file_extension": ".py",
   "mimetype": "text/x-python",
   "name": "python",
   "nbconvert_exporter": "python",
   "pygments_lexer": "ipython3",
   "version": "3.8.8"
  },
  "widgets": {
   "application/vnd.jupyter.widget-state+json": {
    "state": {},
    "version_major": 2,
    "version_minor": 0
   }
  }
 },
 "nbformat": 4,
 "nbformat_minor": 4
}
